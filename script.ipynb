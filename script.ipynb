{
 "cells": [
  {
   "cell_type": "markdown",
   "metadata": {},
   "source": [
    "## Data Preperation"
   ]
  },
  {
   "cell_type": "code",
   "execution_count": 138,
   "metadata": {},
   "outputs": [
    {
     "name": "stdout",
     "output_type": "stream",
     "text": [
      "<class 'pandas.core.frame.DataFrame'>\n",
      "RangeIndex: 88 entries, 0 to 87\n",
      "Data columns (total 8 columns):\n",
      " #   Column          Non-Null Count  Dtype  \n",
      "---  ------          --------------  -----  \n",
      " 0   Decision        87 non-null     object \n",
      " 1   State           88 non-null     object \n",
      " 2   GPA             87 non-null     float64\n",
      " 3   WorkExp         88 non-null     float64\n",
      " 4   TestScore       87 non-null     float64\n",
      " 5   WritingScore    88 non-null     int64  \n",
      " 6   Gender          86 non-null     float64\n",
      " 7   VolunteerLevel  88 non-null     int64  \n",
      "dtypes: float64(4), int64(2), object(2)\n",
      "memory usage: 5.6+ KB\n"
     ]
    },
    {
     "data": {
      "text/plain": [
       "(None,\n",
       "   Decision       State   GPA  WorkExp  TestScore  WritingScore  Gender  \\\n",
       " 0    Admit  California  3.90      6.7      962.0           100     1.0   \n",
       " 1    Admit     Florida  3.80      1.4      969.0            97     1.0   \n",
       " 2   Banana  California  3.80      2.3      970.0            98     0.0   \n",
       " 3    Admit    Colorado  3.60      0.9      969.0            97     0.0   \n",
       " 4    Admit    Colorado  3.92      1.2      969.0            95    -1.0   \n",
       " \n",
       "    VolunteerLevel  \n",
       " 0               0  \n",
       " 1               4  \n",
       " 2               5  \n",
       " 3               2  \n",
       " 4               3  )"
      ]
     },
     "execution_count": 138,
     "metadata": {},
     "output_type": "execute_result"
    }
   ],
   "source": [
    "import pandas as pd\n",
    "import math\n",
    "\n",
    "# Load the dataset\n",
    "file_path = 'SummerStudentAdmissions2.csv'\n",
    "admissions_df = pd.read_csv(file_path)\n",
    "\n",
    "# Display the first few rows and get a summary of the dataset\n",
    "admissions_df.info(), admissions_df.head()\n"
   ]
  },
  {
   "cell_type": "code",
   "execution_count": 139,
   "metadata": {},
   "outputs": [
    {
     "name": "stderr",
     "output_type": "stream",
     "text": [
      "/var/folders/yn/q77cltd96m39dvp38lfzz1240000gn/T/ipykernel_96893/3197201203.py:4: FutureWarning: Series.fillna with 'method' is deprecated and will raise in a future version. Use obj.ffill() or obj.bfill() instead.\n",
      "  admissions_df['Decision'] = admissions_df['Decision'].fillna(method='bfill')\n"
     ]
    },
    {
     "data": {
      "text/plain": [
       "Decision          0\n",
       "State             0\n",
       "GPA               0\n",
       "WorkExp           0\n",
       "TestScore         0\n",
       "WritingScore      0\n",
       "Gender            0\n",
       "VolunteerLevel    0\n",
       "dtype: int64"
      ]
     },
     "execution_count": 139,
     "metadata": {},
     "output_type": "execute_result"
    }
   ],
   "source": [
    "# Step 1: Handling missing values\n",
    "\n",
    "# 1. Fill missing 'Decision' with the value from the next row\n",
    "admissions_df['Decision'] = admissions_df['Decision'].fillna(method='bfill')\n",
    "\n",
    "# 2. Fill missing 'GPA' and 'TestScore' with the median of the same 'Decision' category\n",
    "for column in ['GPA', 'TestScore']:\n",
    "    admissions_df[column] = admissions_df.groupby('Decision')[column].transform(\n",
    "        lambda x: x.fillna(x.median())\n",
    "    )\n",
    "\n",
    "# 3. Drop rows with missing values in 'Gender'\n",
    "admissions_df.dropna(subset=['Gender'], inplace=True)\n",
    "\n",
    "# Verify missing values have been handled\n",
    "missing_values = admissions_df.isnull().sum()\n",
    "missing_values"
   ]
  },
  {
   "cell_type": "code",
   "execution_count": 140,
   "metadata": {},
   "outputs": [
    {
     "name": "stderr",
     "output_type": "stream",
     "text": [
      "/var/folders/yn/q77cltd96m39dvp38lfzz1240000gn/T/ipykernel_96893/902899856.py:7: FutureWarning: Series.fillna with 'method' is deprecated and will raise in a future version. Use obj.ffill() or obj.bfill() instead.\n",
      "  admissions_df['Decision'] = admissions_df['Decision'].mask(admissions_df['Decision'] == 'Banana').fillna(method='bfill')\n"
     ]
    },
    {
     "data": {
      "text/plain": [
       "(array(['Admit', 'Decline', 'Waitlist'], dtype=object), array([1., 0.]))"
      ]
     },
     "execution_count": 140,
     "metadata": {},
     "output_type": "execute_result"
    }
   ],
   "source": [
    "# Step 2 (Finalized): Reapplying your custom instructions for clarity and consistency\n",
    "\n",
    "# Check unique values in 'Decision' to identify invalid entries\n",
    "unique_decisions = admissions_df['Decision'].unique()\n",
    "\n",
    "# Replace the invalid entry 'Banana' with the value from the next row\n",
    "admissions_df['Decision'] = admissions_df['Decision'].mask(admissions_df['Decision'] == 'Banana').fillna(method='bfill')\n",
    "\n",
    "# Replace invalid gender entries (-1) with 1\n",
    "admissions_df['Gender'] = admissions_df['Gender'].replace(-1, 1)\n",
    "\n",
    "# Verify corrections\n",
    "corrected_decisions = admissions_df['Decision'].unique()\n",
    "corrected_genders = admissions_df['Gender'].unique()\n",
    "\n",
    "corrected_decisions, corrected_genders\n"
   ]
  },
  {
   "cell_type": "code",
   "execution_count": 141,
   "metadata": {},
   "outputs": [
    {
     "name": "stdout",
     "output_type": "stream",
     "text": [
      "<class 'pandas.core.frame.DataFrame'>\n",
      "Index: 86 entries, 0 to 87\n",
      "Data columns (total 8 columns):\n",
      " #   Column          Non-Null Count  Dtype   \n",
      "---  ------          --------------  -----   \n",
      " 0   Decision        86 non-null     category\n",
      " 1   State           86 non-null     object  \n",
      " 2   GPA             86 non-null     float64 \n",
      " 3   WorkExp         86 non-null     float64 \n",
      " 4   TestScore       86 non-null     float64 \n",
      " 5   WritingScore    86 non-null     int64   \n",
      " 6   Gender          86 non-null     category\n",
      " 7   VolunteerLevel  86 non-null     int64   \n",
      "dtypes: category(2), float64(3), int64(2), object(1)\n",
      "memory usage: 5.1+ KB\n"
     ]
    },
    {
     "data": {
      "text/plain": [
       "(None,\n",
       "   Decision       State   GPA  WorkExp  TestScore  WritingScore  Gender  \\\n",
       " 0    Admit  California  3.90      6.7      962.0           100    Male   \n",
       " 1    Admit     Florida  3.80      1.4      969.0            97    Male   \n",
       " 2    Admit  California  3.80      2.3      970.0            98  Female   \n",
       " 3    Admit    Colorado  3.60      0.9      969.0            97  Female   \n",
       " 4    Admit    Colorado  3.92      1.2      969.0            95    Male   \n",
       " \n",
       "    VolunteerLevel  \n",
       " 0               0  \n",
       " 1               4  \n",
       " 2               5  \n",
       " 3               2  \n",
       " 4               3  )"
      ]
     },
     "execution_count": 141,
     "metadata": {},
     "output_type": "execute_result"
    }
   ],
   "source": [
    "# Step 3: Convert Data Types\n",
    "\n",
    "# Convert 'Decision' and 'Gender' to categorical types with meaningful labels\n",
    "admissions_df['Decision'] = admissions_df['Decision'].astype('category')\n",
    "admissions_df['Gender'] = admissions_df['Gender'].map({0: 'Female', 1: 'Male'}).astype('category')\n",
    "\n",
    "# Verify the data types and category conversion\n",
    "admissions_df.info(), admissions_df.head()\n"
   ]
  },
  {
   "cell_type": "code",
   "execution_count": 142,
   "metadata": {},
   "outputs": [
    {
     "data": {
      "text/plain": [
       "(0, 1, 0, 0)"
      ]
     },
     "execution_count": 142,
     "metadata": {},
     "output_type": "execute_result"
    }
   ],
   "source": [
    "# Step 4: Outlier Detection\n",
    "\n",
    "# Detect outliers in GPA, TestScore, and WorkExp\n",
    "outliers_gpa = admissions_df[(admissions_df['GPA'] < 0.0) | (admissions_df['GPA'] > 4.0)]\n",
    "outliers_testscore = admissions_df[(admissions_df['TestScore'] < 400) | (admissions_df['TestScore'] > 1600)]  # Assuming SAT scale\n",
    "outliers_workexp = admissions_df[admissions_df['WorkExp'] < 0]  # Negative work experience shouldn't exist\n",
    "\n",
    "# Count of outliers\n",
    "outliers_gpa_count = outliers_gpa.shape[0]\n",
    "outliers_testscore_count = outliers_testscore.shape[0]\n",
    "outliers_workexp_count = outliers_workexp.shape[0]\n",
    "\n",
    "\n",
    "# Detect outliers in WritingScore (assuming a valid range of 0-100)\n",
    "outliers_writingscore = admissions_df[(admissions_df['WritingScore'] < 20) | (admissions_df['WritingScore'] > 100)]\n",
    "\n",
    "\n",
    "def replace_writingscore_outlier(row):\n",
    "    if row['WritingScore'] < 20 or row['WritingScore'] > 100:\n",
    "        decision_type = row['Decision']\n",
    "        avg_writingscore = admissions_df[admissions_df['Decision'] == decision_type]['WritingScore'].mean()\n",
    "        return math.ceil(avg_writingscore)  # Round up the average score\n",
    "    else:\n",
    "        return row['WritingScore']\n",
    "\n",
    "admissions_df['WritingScore'] = admissions_df.apply(replace_writingscore_outlier, axis=1)\n",
    "\n",
    "# Verify no more WritingScore outliers\n",
    "remaining_outliers_writingscore = admissions_df[\n",
    "    (admissions_df['WritingScore'] < 20) | (admissions_df['WritingScore'] > 100)\n",
    "].shape[0]\n",
    "\n",
    "remaining_outliers_writingscore, outliers_gpa_count, outliers_testscore_count, outliers_workexp_count\n",
    "\n",
    "\n"
   ]
  },
  {
   "cell_type": "code",
   "execution_count": 143,
   "metadata": {},
   "outputs": [
    {
     "data": {
      "text/plain": [
       "0"
      ]
     },
     "execution_count": 143,
     "metadata": {},
     "output_type": "execute_result"
    }
   ],
   "source": [
    "# Handle the GPA outlier by replacing it with the average GPA of the same decision type\n",
    "def replace_gpa_outlier(row):\n",
    "    if row['GPA'] > 4.0 or row['GPA'] < 0.0:\n",
    "        decision_type = row['Decision']\n",
    "        avg_gpa = admissions_df[admissions_df['Decision'] == decision_type]['GPA'].mean()\n",
    "        return math.ceil(avg_gpa)\n",
    "    else:\n",
    "        return row['GPA']\n",
    "\n",
    "admissions_df['GPA'] = admissions_df.apply(replace_gpa_outlier, axis=1)\n",
    "\n",
    "# Verify no more GPA outliers\n",
    "remaining_outliers_gpa = admissions_df[(admissions_df['GPA'] < 0.0) | (admissions_df['GPA'] > 4.0)].shape[0]\n",
    "remaining_outliers_gpa\n"
   ]
  },
  {
   "cell_type": "code",
   "execution_count": 144,
   "metadata": {},
   "outputs": [
    {
     "data": {
      "text/html": [
       "<div>\n",
       "<style scoped>\n",
       "    .dataframe tbody tr th:only-of-type {\n",
       "        vertical-align: middle;\n",
       "    }\n",
       "\n",
       "    .dataframe tbody tr th {\n",
       "        vertical-align: top;\n",
       "    }\n",
       "\n",
       "    .dataframe thead th {\n",
       "        text-align: right;\n",
       "    }\n",
       "</style>\n",
       "<table border=\"1\" class=\"dataframe\">\n",
       "  <thead>\n",
       "    <tr style=\"text-align: right;\">\n",
       "      <th></th>\n",
       "      <th>TotalScore</th>\n",
       "      <th>ExperienceLevel</th>\n",
       "    </tr>\n",
       "  </thead>\n",
       "  <tbody>\n",
       "    <tr>\n",
       "      <th>0</th>\n",
       "      <td>1062.0</td>\n",
       "      <td>High</td>\n",
       "    </tr>\n",
       "    <tr>\n",
       "      <th>1</th>\n",
       "      <td>1066.0</td>\n",
       "      <td>Low</td>\n",
       "    </tr>\n",
       "    <tr>\n",
       "      <th>2</th>\n",
       "      <td>1068.0</td>\n",
       "      <td>Medium</td>\n",
       "    </tr>\n",
       "    <tr>\n",
       "      <th>3</th>\n",
       "      <td>1066.0</td>\n",
       "      <td>Low</td>\n",
       "    </tr>\n",
       "    <tr>\n",
       "      <th>4</th>\n",
       "      <td>1064.0</td>\n",
       "      <td>Low</td>\n",
       "    </tr>\n",
       "  </tbody>\n",
       "</table>\n",
       "</div>"
      ],
      "text/plain": [
       "   TotalScore ExperienceLevel\n",
       "0      1062.0            High\n",
       "1      1066.0             Low\n",
       "2      1068.0          Medium\n",
       "3      1066.0             Low\n",
       "4      1064.0             Low"
      ]
     },
     "execution_count": 144,
     "metadata": {},
     "output_type": "execute_result"
    }
   ],
   "source": [
    "# Step 5: Feature Engineering\n",
    "\n",
    "# Create 'TotalScore' by summing 'TestScore' and 'WritingScore'\n",
    "admissions_df['TotalScore'] = admissions_df['TestScore'] + admissions_df['WritingScore']\n",
    "\n",
    "# Create 'ExperienceLevel' based on 'WorkExp'\n",
    "def experience_level(years):\n",
    "    if years <= 2:\n",
    "        return 'Low'\n",
    "    elif years <= 5:\n",
    "        return 'Medium'\n",
    "    else:\n",
    "        return 'High'\n",
    "\n",
    "admissions_df['ExperienceLevel'] = admissions_df['WorkExp'].apply(experience_level).astype('category')\n",
    "\n",
    "# Verify the new features\n",
    "admissions_df[['TotalScore', 'ExperienceLevel']].head()\n"
   ]
  },
  {
   "cell_type": "code",
   "execution_count": 145,
   "metadata": {},
   "outputs": [],
   "source": [
    "# Capitalize the first letter of each state for consistency\n",
    "admissions_df['State'] = admissions_df['State'].str.title()\n",
    "\n",
    "# Sort the dataset by 'Decision', then 'State', then 'GPA', and then 'WorkExp'\n",
    "admissions_df = admissions_df.sort_values(by=['Decision', 'State', 'GPA', 'WorkExp']).reset_index(drop=True)\n",
    "\n",
    "# Display a grouped view to verify sorting\n",
    "#grouped_view = admissions_df.groupby(['Decision', 'State']).head(10)  # Showing top 10 from each group for verification\n",
    "\n",
    "# Save the sorted dataset\n",
    "sorted_file_path = 'Cleaned_Sorted_SummerStudentAdmissions.csv'\n",
    "admissions_df.to_csv(sorted_file_path, index=False)\n",
    "\n",
    "#grouped_view.head(), sorted_file_path"
   ]
  }
 ],
 "metadata": {
  "kernelspec": {
   "display_name": "base",
   "language": "python",
   "name": "python3"
  },
  "language_info": {
   "codemirror_mode": {
    "name": "ipython",
    "version": 3
   },
   "file_extension": ".py",
   "mimetype": "text/x-python",
   "name": "python",
   "nbconvert_exporter": "python",
   "pygments_lexer": "ipython3",
   "version": "3.11.8"
  }
 },
 "nbformat": 4,
 "nbformat_minor": 2
}
